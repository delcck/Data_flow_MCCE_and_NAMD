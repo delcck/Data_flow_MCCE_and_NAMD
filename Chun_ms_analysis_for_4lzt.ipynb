{
 "cells": [
  {
   "cell_type": "markdown",
   "id": "3b1dc381-a5b2-4d82-a195-043d5b336e0f",
   "metadata": {},
   "source": [
    "### Load libraries to read input files."
   ]
  },
  {
   "cell_type": "code",
   "execution_count": 1,
   "id": "86b76bca-c60b-42df-909b-42e5b0c3fa32",
   "metadata": {},
   "outputs": [],
   "source": [
    "import pandas as pd\n",
    "import matplotlib.pyplot as plt\n",
    "import seaborn as sns\n",
    "import numpy as np\n",
    "import math\n",
    "%matplotlib inline\n",
    "import pickle\n",
    "import ms_analysis as msa"
   ]
  },
  {
   "cell_type": "code",
   "execution_count": 2,
   "id": "c5271151-aede-4639-993b-13eb0ef4174d",
   "metadata": {},
   "outputs": [
    {
     "data": {
      "text/plain": [
       "['Conformer',\n",
       " 'Kcal2kT',\n",
       " 'MSout',\n",
       " 'Microstate',\n",
       " 'Path',\n",
       " 'Union',\n",
       " '__builtins__',\n",
       " '__cached__',\n",
       " '__doc__',\n",
       " '__file__',\n",
       " '__loader__',\n",
       " '__name__',\n",
       " '__package__',\n",
       " '__spec__',\n",
       " '__warningregistry__',\n",
       " 'bhata_distance',\n",
       " 'conformers',\n",
       " 'e2occ',\n",
       " 'groupms_byconfid',\n",
       " 'groupms_byenergy',\n",
       " 'groupms_byiconf',\n",
       " 'math',\n",
       " 'ms_charge',\n",
       " 'ms_convert2occ',\n",
       " 'ms_convert2sumcrg',\n",
       " 'ms_counts',\n",
       " 'ms_energy_stat',\n",
       " 'np',\n",
       " 'operator',\n",
       " 'partial',\n",
       " 'ph2Kcal',\n",
       " 'read_conformers',\n",
       " 'sys',\n",
       " 'whatchanged_conf',\n",
       " 'whatchanged_res']"
      ]
     },
     "execution_count": 2,
     "metadata": {},
     "output_type": "execute_result"
    }
   ],
   "source": [
    "dir(msa)"
   ]
  },
  {
   "cell_type": "markdown",
   "id": "b62d6924-007f-46d7-8011-bf3968f3466d",
   "metadata": {},
   "source": [
    "### Read data"
   ]
  },
  {
   "cell_type": "code",
   "execution_count": 3,
   "id": "60ed79a0-c4af-4b1d-81f0-44419178f418",
   "metadata": {},
   "outputs": [],
   "source": [
    "in_txt = '/Users/delcck/Desktop/Research/Project_MCCE/work_dir/4lzt/ms_out/pH1eH0ms.txt'"
   ]
  },
  {
   "cell_type": "code",
   "execution_count": 4,
   "id": "6fce84e3-17df-4f34-b5c3-159a5ade8ec8",
   "metadata": {},
   "outputs": [],
   "source": [
    "mc = msa.MSout(in_txt)"
   ]
  },
  {
   "cell_type": "code",
   "execution_count": 5,
   "id": "1c17ce82-f524-4e08-9d7e-f5b5e4566c11",
   "metadata": {},
   "outputs": [
    {
     "name": "stdout",
     "output_type": "stream",
     "text": [
      "\u001b[34m4lzt/\u001b[m\u001b[m        \u001b[34m__pycache__/\u001b[m\u001b[m\n"
     ]
    }
   ],
   "source": [
    "!ls -d */"
   ]
  },
  {
   "cell_type": "code",
   "execution_count": 6,
   "id": "9f2e86ef-bca9-4321-9542-52b947f66df5",
   "metadata": {},
   "outputs": [],
   "source": [
    "out_pickle = './4lzt/mc.pickle'\n",
    "\n",
    "with open(out_pickle, 'wb') as fout:\n",
    "    pickle.dump(mc, fout, protocol=pickle.HIGHEST_PROTOCOL)"
   ]
  },
  {
   "cell_type": "markdown",
   "id": "1cd26a57-f8ad-4de3-ba0f-48b99409b60e",
   "metadata": {},
   "source": [
    "Obtain microstate energy, count, and microstate id.\n",
    "These quantities are saved in a list, sorted using the associated enthalpy from lowest to highest."
   ]
  },
  {
   "cell_type": "code",
   "execution_count": 7,
   "id": "cfd166e3-e504-4cbc-a091-bb02f09b23a7",
   "metadata": {},
   "outputs": [],
   "source": [
    "ms_orig_list = [\n",
    "    [ms.E, ms.count, ms.state] for ms in list((mc.microstates.values()))\n",
    "]"
   ]
  },
  {
   "cell_type": "code",
   "execution_count": 8,
   "id": "a0c597c0-9f71-4ec4-8d1f-83ed85c380cd",
   "metadata": {},
   "outputs": [],
   "source": [
    "ms_orig_list = sorted(ms_orig_list, key = lambda x: x[0])"
   ]
  },
  {
   "cell_type": "code",
   "execution_count": 9,
   "id": "d06ea0e6-49b1-4466-bd1b-3493a0394e7b",
   "metadata": {},
   "outputs": [
    {
     "name": "stdout",
     "output_type": "stream",
     "text": [
      "[[-287.853088, 21, [14, 32, 37, 42, 48, 52, 55, 66, 70, 72, 80, 82, 85, 91, 95, 100, 106, 109, 115, 121, 126, 129, 134, 146, 152, 163, 167, 185, 187, 190, 196, 200, 212, 213, 218, 222, 233, 242, 246, 251, 268]]]\n"
     ]
    }
   ],
   "source": [
    "print(ms_orig_list[:1])"
   ]
  },
  {
   "cell_type": "markdown",
   "id": "c6ccb1c5-6d42-4cd0-9be5-906fe1fe69a8",
   "metadata": {},
   "source": [
    "The total number of ms steps (N_ms) and the total number of unique conformers from ms (N_uniq) can be obatined by:"
   ]
  },
  {
   "cell_type": "code",
   "execution_count": 10,
   "id": "b379da98-a2ec-4d56-912b-ef5681beea97",
   "metadata": {},
   "outputs": [
    {
     "name": "stdout",
     "output_type": "stream",
     "text": [
      "1500000\n",
      "411926\n"
     ]
    }
   ],
   "source": [
    "print(mc.N_ms)\n",
    "print(mc.N_uniq)"
   ]
  },
  {
   "cell_type": "markdown",
   "id": "a547e893-1d3b-4715-8f21-dc1010695d19",
   "metadata": {},
   "source": [
    "**Optional codes** from Judy"
   ]
  },
  {
   "cell_type": "code",
   "execution_count": 11,
   "id": "14e16583-5bfd-4c29-b765-b131ca15c2ce",
   "metadata": {},
   "outputs": [],
   "source": [
    "energy_lst_count = np.asarray(\n",
    "    [\n",
    "        a for a, f in zip(\n",
    "            [x[0] for x in ms_orig_list], [x[1] for x in ms_orig_list]\n",
    "        )\n",
    "    ]\n",
    ")\n",
    "#basically, we are getting the energy & frequency of each ms"
   ]
  },
  {
   "cell_type": "code",
   "execution_count": 12,
   "id": "94db8ca0-6a34-405d-8ace-5ca5728462b0",
   "metadata": {},
   "outputs": [
    {
     "data": {
      "text/plain": [
       "(411926,)"
      ]
     },
     "execution_count": 12,
     "metadata": {},
     "output_type": "execute_result"
    }
   ],
   "source": [
    "#Actually, we only get the energy? why\n",
    "energy_lst_count.shape"
   ]
  },
  {
   "cell_type": "code",
   "execution_count": 13,
   "id": "239a42ed-8496-4188-9428-fb3e6d071ce0",
   "metadata": {},
   "outputs": [
    {
     "data": {
      "text/plain": [
       "(411926,)"
      ]
     },
     "execution_count": 13,
     "metadata": {},
     "output_type": "execute_result"
    }
   ],
   "source": [
    "#Actually, we only get the energy? why\n",
    "energy_lst_count.shape"
   ]
  },
  {
   "cell_type": "markdown",
   "id": "bbdae024-6da3-404d-b140-bb35905fb8be",
   "metadata": {},
   "source": [
    "Judy then fit the distribution by a skewed normal distribution & plot the equation"
   ]
  },
  {
   "cell_type": "code",
   "execution_count": 14,
   "id": "efae8cfd-462d-4b44-b281-b5a69b7c1cf4",
   "metadata": {},
   "outputs": [],
   "source": [
    "from scipy.stats import norm, skewnorm"
   ]
  },
  {
   "cell_type": "code",
   "execution_count": 15,
   "id": "9c67919e-7e68-4b7c-bd7b-ef4787c4b6eb",
   "metadata": {},
   "outputs": [],
   "source": [
    "(mu, sigma) = norm.fit(energy_lst_count)"
   ]
  },
  {
   "cell_type": "code",
   "execution_count": 16,
   "id": "4791008a-d10f-4620-b679-fed604856a75",
   "metadata": {},
   "outputs": [],
   "source": [
    "skewness, mean_, std_ = skewnorm.fit(energy_lst_count)"
   ]
  },
  {
   "cell_type": "code",
   "execution_count": 17,
   "id": "38bd4141-81ce-4b32-9acc-e9d374880bae",
   "metadata": {},
   "outputs": [
    {
     "name": "stdout",
     "output_type": "stream",
     "text": [
      "-281.23644219602306 2.4666013857905567\n",
      "2.3291238180450566 -283.90397314118945 3.6331675647885016\n"
     ]
    }
   ],
   "source": [
    "print(mu, sigma)\n",
    "print(skewness, mean_, std_)"
   ]
  },
  {
   "cell_type": "code",
   "execution_count": 18,
   "id": "e90a2c5b-6d0a-452f-9df4-5d9ad182db32",
   "metadata": {},
   "outputs": [
    {
     "data": {
      "image/png": "[encoded data removed]",
      "text/plain": [
       "<Figure size 1000x800 with 1 Axes>"
      ]
     },
     "metadata": {},
     "output_type": "display_data"
    }
   ],
   "source": [
    "#plot the figure\n",
    "fig = plt.figure(figsize=(10, 8))\n",
    "graph_hist = plt.hist(\n",
    "    energy_lst_count, bins=100, alpha=0.6\n",
    ")\n",
    "Y = graph_hist[0]\n",
    "y = skewnorm.pdf(\n",
    "    np.array(energy_lst_count), skewness, mean_, std_\n",
    ")\n",
    "#--scale back\n",
    "pdf_data = Y.max() / max(y) * y\n",
    "plt.plot(energy_lst_count, pdf_data, label='approximated shewnorm', color='black')\n",
    "plt.title(\"Skewness: \" + str(round(skewness, 2)) + \" \" \\\n",
    "          + \"Mean: \" + str(round(mean_, 2)) + \" \" + \\\n",
    "          \" STD: \" + str(round(std_, 2)), fontsize=15)\n",
    "plt.yticks(fontsize = 15)\n",
    "plt.xticks(fontsize = 15)\n",
    "plt.xlabel(\"Microstate Energy (Kcal/Mol)\", fontsize = 15)\n",
    "plt.ylabel(\"Count\", fontsize = 15)\n",
    "plt.tick_params(\n",
    "    axis=\"x\", direction=\"out\", length=8, width=2\n",
    ")\n",
    "plt.tick_params(\n",
    "    axis=\"y\", direction=\"out\", length=8, width=2\n",
    ")\n",
    "fig.savefig(\"enthalpy_dis.pdf\", dpi=600, bbox_inches = \"tight\")"
   ]
  },
  {
   "cell_type": "markdown",
   "id": "e2e3591e-5d5a-4fea-9b74-899259a09999",
   "metadata": {},
   "source": [
    "### EDA (Exploratory Data Analysis)"
   ]
  },
  {
   "cell_type": "markdown",
   "id": "caf9121b-5f6d-4377-86ad-05198563754b",
   "metadata": {},
   "source": [
    "In MCCE, there are groups for free and fixed residues.\n",
    "\n",
    "Free residues appear in the microstate ID list, but fixed residues do not. Fixed residues can be titrating residues. Thus, it is important to look up these fixed residues and their contributions to the total charge, which is termd as background charges here."
   ]
  },
  {
   "cell_type": "markdown",
   "id": "c547e6ef-9f72-4a31-93e9-64b798c57ecf",
   "metadata": {},
   "source": [
    "First, we need to get access to conformer information from the corresponding MCCE run of the system used here."
   ]
  },
  {
   "cell_type": "code",
   "execution_count": 19,
   "id": "46d9a21a-5aa6-4df7-bfc1-482ff34a3cdf",
   "metadata": {},
   "outputs": [],
   "source": [
    "head3_path = \\\n",
    "\"/Users/delcck/Desktop/Research/Project_MCCE/work_dir/4lzt/head3.lst\"\n",
    "\n",
    "mc.conformers = msa.read_conformers(head3_path)"
   ]
  },
  {
   "cell_type": "markdown",
   "id": "7a0eb239-f5b7-4658-ac0e-f9814c7a744f",
   "metadata": {},
   "source": [
    "Then we examine the free residues information."
   ]
  },
  {
   "cell_type": "code",
   "execution_count": 20,
   "id": "69e83183-70fc-4645-8399-30e7970201c9",
   "metadata": {},
   "outputs": [
    {
     "data": {
      "text/plain": [
       "271"
      ]
     },
     "execution_count": 20,
     "metadata": {},
     "output_type": "execute_result"
    }
   ],
   "source": [
    "len(mc.conformers)"
   ]
  },
  {
   "cell_type": "code",
   "execution_count": 21,
   "id": "247bb334-44ec-4fb1-a2e3-99cc0e7251e8",
   "metadata": {},
   "outputs": [
    {
     "data": {
      "text/html": [
       "<div>\n",
       "<style scoped>\n",
       "    .dataframe tbody tr th:only-of-type {\n",
       "        vertical-align: middle;\n",
       "    }\n",
       "\n",
       "    .dataframe tbody tr th {\n",
       "        vertical-align: top;\n",
       "    }\n",
       "\n",
       "    .dataframe thead th {\n",
       "        text-align: right;\n",
       "    }\n",
       "</style>\n",
       "<table border=\"1\" class=\"dataframe\">\n",
       "  <thead>\n",
       "    <tr style=\"text-align: right;\">\n",
       "      <th></th>\n",
       "      <th>Residue</th>\n",
       "    </tr>\n",
       "  </thead>\n",
       "  <tbody>\n",
       "    <tr>\n",
       "      <th>0</th>\n",
       "      <td>GLUA0007_</td>\n",
       "    </tr>\n",
       "    <tr>\n",
       "      <th>1</th>\n",
       "      <td>HISA0015_</td>\n",
       "    </tr>\n",
       "    <tr>\n",
       "      <th>2</th>\n",
       "      <td>ASPA0018_</td>\n",
       "    </tr>\n",
       "    <tr>\n",
       "      <th>3</th>\n",
       "      <td>TYRA0020_</td>\n",
       "    </tr>\n",
       "    <tr>\n",
       "      <th>4</th>\n",
       "      <td>TYRA0023_</td>\n",
       "    </tr>\n",
       "  </tbody>\n",
       "</table>\n",
       "</div>"
      ],
      "text/plain": [
       "     Residue\n",
       "0  GLUA0007_\n",
       "1  HISA0015_\n",
       "2  ASPA0018_\n",
       "3  TYRA0020_\n",
       "4  TYRA0023_"
      ]
     },
     "execution_count": 21,
     "metadata": {},
     "output_type": "execute_result"
    }
   ],
   "source": [
    "free_residues = []\n",
    "for res in mc.free_residues:\n",
    "    try:\n",
    "        #free_residues.append(msa.conformers[res[0]].resid)\n",
    "        free_residues.append(mc.conformers[res[0]].resid)\n",
    "    except:\n",
    "        print(res[0])\n",
    "    \n",
    "\n",
    "ms_free_residues = pd.DataFrame(free_residues, columns = [\"Residue\"])\n",
    "ms_free_residues.head()"
   ]
  },
  {
   "cell_type": "markdown",
   "id": "769256a8-8649-4175-bc0f-b130a55ec074",
   "metadata": {},
   "source": [
    "Fixed residues charge. Make sure look into fixed residues charge for MD protonation input."
   ]
  },
  {
   "cell_type": "code",
   "execution_count": 22,
   "id": "0ffadfe2-48f6-4e82-9d56-d6e146ab142c",
   "metadata": {},
   "outputs": [
    {
     "name": "stdout",
     "output_type": "stream",
     "text": [
      "18.0\n"
     ]
    }
   ],
   "source": [
    "# this is to write the fixed charge state\n",
    "fixed_res_crg_dict = {}\n",
    "for conf in mc.conformers:\n",
    "    if conf.iconf in mc.fixed_iconfs:\n",
    "        try:\n",
    "            #initializing the dict\n",
    "            if conf.resid not in fixed_res_crg_dict:\n",
    "                fixed_res_crg_dict[conf.resid] = conf.crg\n",
    "        except:\n",
    "            print(\"Error in ms file! Fixed residues are duplicating\")\n",
    "\n",
    "background_charge = sum(fixed_res_crg_dict.values())\n",
    "print(background_charge)"
   ]
  },
  {
   "cell_type": "markdown",
   "id": "7cf3b22e-7f51-4f85-beb6-b5f17bea4517",
   "metadata": {},
   "source": [
    "### Focused analyses on residues of interest"
   ]
  },
  {
   "cell_type": "code",
   "execution_count": 23,
   "id": "0b3190e9-5f5b-4508-92c3-0b5d81f3db20",
   "metadata": {},
   "outputs": [],
   "source": [
    "your_interested_res = \\\n",
    " [\"ASP\", \"MQ8\", \"GLU\", \"ARG\", \"HIS\", \"LYS\", \"SER\", \"CYS\", \"THR\", \"TYR\", \"NTR\", \"CTR\"]"
   ]
  },
  {
   "cell_type": "markdown",
   "id": "c5f93e88-6528-492b-951f-5c83b401697d",
   "metadata": {},
   "source": [
    "Keep only information related to our residues of interest."
   ]
  },
  {
   "cell_type": "code",
   "execution_count": 24,
   "id": "c64eb735-49a5-419c-9bd6-9207c6fbbd5c",
   "metadata": {},
   "outputs": [
    {
     "data": {
      "text/html": [
       "<div>\n",
       "<style scoped>\n",
       "    .dataframe tbody tr th:only-of-type {\n",
       "        vertical-align: middle;\n",
       "    }\n",
       "\n",
       "    .dataframe tbody tr th {\n",
       "        vertical-align: top;\n",
       "    }\n",
       "\n",
       "    .dataframe thead th {\n",
       "        text-align: right;\n",
       "    }\n",
       "</style>\n",
       "<table border=\"1\" class=\"dataframe\">\n",
       "  <thead>\n",
       "    <tr style=\"text-align: right;\">\n",
       "      <th></th>\n",
       "      <th>Residue</th>\n",
       "      <th>crg</th>\n",
       "    </tr>\n",
       "  </thead>\n",
       "  <tbody>\n",
       "    <tr>\n",
       "      <th>0</th>\n",
       "      <td>NTRA0001_</td>\n",
       "      <td>1.0</td>\n",
       "    </tr>\n",
       "    <tr>\n",
       "      <th>1</th>\n",
       "      <td>LYSA0001_</td>\n",
       "      <td>1.0</td>\n",
       "    </tr>\n",
       "    <tr>\n",
       "      <th>2</th>\n",
       "      <td>ARGA0005_</td>\n",
       "      <td>1.0</td>\n",
       "    </tr>\n",
       "    <tr>\n",
       "      <th>3</th>\n",
       "      <td>LYSA0013_</td>\n",
       "      <td>1.0</td>\n",
       "    </tr>\n",
       "    <tr>\n",
       "      <th>4</th>\n",
       "      <td>ARGA0014_</td>\n",
       "      <td>1.0</td>\n",
       "    </tr>\n",
       "  </tbody>\n",
       "</table>\n",
       "</div>"
      ],
      "text/plain": [
       "     Residue  crg\n",
       "0  NTRA0001_  1.0\n",
       "1  LYSA0001_  1.0\n",
       "2  ARGA0005_  1.0\n",
       "3  LYSA0013_  1.0\n",
       "4  ARGA0014_  1.0"
      ]
     },
     "execution_count": 24,
     "metadata": {},
     "output_type": "execute_result"
    }
   ],
   "source": [
    "fixed_interested_res = {\n",
    "    i: j for i, j in fixed_res_crg_dict.items() if i[:3] in your_interested_res\n",
    "}\n",
    "fixed_residues_crg = pd.DataFrame(\n",
    "    fixed_interested_res.items(), columns=[\"Residue\", \"crg\"]\n",
    ")\n",
    "fixed_residues_crg.head()"
   ]
  },
  {
   "cell_type": "code",
   "execution_count": 25,
   "id": "6730f066-a133-4e80-8afb-758b3ce4daf1",
   "metadata": {},
   "outputs": [
    {
     "name": "stdout",
     "output_type": "stream",
     "text": [
      "21\n"
     ]
    }
   ],
   "source": [
    "print(len(fixed_interested_res))"
   ]
  },
  {
   "cell_type": "markdown",
   "id": "b31628a5-30cf-41d1-bb45-8ed8c6b4ef7b",
   "metadata": {},
   "source": [
    "Now, we will convert the microstate conformer if to its corresponding charge."
   ]
  },
  {
   "cell_type": "code",
   "execution_count": 26,
   "id": "c6481e7a-c14f-42e8-86eb-f9165e8be737",
   "metadata": {},
   "outputs": [],
   "source": [
    "id_vs_charge = {}\n",
    "\n",
    "for conf in mc.conformers:\n",
    "    id_vs_charge[conf.iconf] = conf.crg"
   ]
  },
  {
   "cell_type": "code",
   "execution_count": 27,
   "id": "3618dcb2-97f9-4eb9-a922-c745c6fc795b",
   "metadata": {},
   "outputs": [],
   "source": [
    "def convert_ms_crg(l, d):\n",
    "    #A recursive function\n",
    "    crg_lst = [\n",
    "        [\n",
    "            y[0], y[1], [convert_ms_crg(x, d) if isinstance(x, list) else d.get(x, x) for x in y[2]]\n",
    "        ] for y in l\n",
    "    ]\n",
    "    return crg_lst"
   ]
  },
  {
   "cell_type": "code",
   "execution_count": 28,
   "id": "787f1990-191c-432f-98bb-283c05c1fc68",
   "metadata": {},
   "outputs": [],
   "source": [
    "crg_orig_list = convert_ms_crg(ms_orig_list, id_vs_charge)"
   ]
  },
  {
   "cell_type": "code",
   "execution_count": 29,
   "id": "95a6fea9-4f60-44ab-82e7-162cddcfbbc4",
   "metadata": {},
   "outputs": [
    {
     "data": {
      "text/plain": [
       "411926"
      ]
     },
     "execution_count": 29,
     "metadata": {},
     "output_type": "execute_result"
    }
   ],
   "source": [
    "len(crg_orig_list)"
   ]
  },
  {
   "cell_type": "code",
   "execution_count": 30,
   "id": "ab70948f-425a-4d8c-a748-6a69d1fd3cb4",
   "metadata": {},
   "outputs": [
    {
     "name": "stdout",
     "output_type": "stream",
     "text": [
      "[[-287.853088, 21, [0.0, 1.0, 0.0, 0.0, 0.0, 0.0, 0.0, 0.0, 0.0, 0.0, 0.0, 0.0, 0.0, 0.0, 0.0, 0.0, 0.0, 0.0, 0.0, 0.0, 0.0, 0.0, 0.0, 0.0, 0.0, 0.0, 0.0, 0.0, 0.0, 0.0, 0.0, 0.0, 0.0, 0.0, 0.0, 0.0, 0.0, 0.0, 0.0, 0.0, 0.0]], [-287.838135, 36, [0.0, 1.0, 0.0, 0.0, 0.0, 0.0, 0.0, 0.0, 0.0, 0.0, 0.0, 0.0, 0.0, 0.0, 0.0, 0.0, 0.0, 0.0, 0.0, 0.0, 0.0, 0.0, 0.0, 0.0, 0.0, 0.0, 0.0, 0.0, 0.0, 0.0, 0.0, 0.0, 0.0, 0.0, 0.0, 0.0, 0.0, 0.0, 0.0, 0.0, 0.0]]]\n"
     ]
    }
   ],
   "source": [
    "print(crg_orig_list[:2])"
   ]
  },
  {
   "cell_type": "markdown",
   "id": "0f9e055c-6706-4981-bcbe-6edf024f46a7",
   "metadata": {},
   "source": [
    "### Obtain information about the unique charge state id, and corresponding count."
   ]
  },
  {
   "cell_type": "code",
   "execution_count": 31,
   "id": "51d2361d-81be-488c-9d95-b0ea4246ad27",
   "metadata": {},
   "outputs": [],
   "source": [
    "import sys\n",
    "\n",
    "def find_unique_crgms_count_order(\n",
    "    crg_list_ms, begin_energy = None, end_energy = None\n",
    "):\n",
    "    \"\"\"\n",
    "    Args:\n",
    "        - crg_list_ms: the charge list of microstates. \n",
    "        * the crg file must have been sorted with increasing order.\n",
    "\n",
    "        - begin_energy: min. enegy used for filtering charge id based on the ms' energy.\n",
    "        - end_energy: min. enegy used for filtering charge id based on the ms' energy.\n",
    "        * supplied together with begin_energy\n",
    "\n",
    "    Return:\n",
    "        - a unique_crg_state_order that gives the order of unique charge state based on energy. \n",
    "        * Lowest energy charge state will give the order 1 and then second unique charge \n",
    "        state will give the order 2. This order is based on unique charge ms order.\n",
    "    \"\"\"\n",
    "    if not begin_energy and not end_energy:\n",
    "        print(\"All energy microstates are selected.\")\n",
    "        begin_energy = crg_list_ms[0][0]\n",
    "        eng_energy = crg_list_ms[-1][0]\n",
    "    elif begin_energy and end_energy:\n",
    "        crg_list_ms = [\n",
    "            [x[0], x[1], x[2]]\\\n",
    "            for x in crg_list_ms \\\n",
    "            if x[0] >= begin_energy and x[0] <= end_energy\n",
    "        ]\n",
    "    else:\n",
    "        #!! error here in the original code\n",
    "        sys.exit('Give the lower and the upper energy bound.')\n",
    "\n",
    "    #unique charge as key and energy, count and order\n",
    "    crg_all_count = {}\n",
    "    unique_crg_state_order = 1\n",
    "    for x, array in enumerate(crg_list_ms):\n",
    "        #adding new items\n",
    "        if tuple(array[2]) not in crg_all_count.keys():\n",
    "            crg_all_count[(tuple(array[2]))] = [\n",
    "                array[1], [array[0]], [unique_crg_state_order]\n",
    "            ]\n",
    "            unique_crg_state_order += 1\n",
    "        else:\n",
    "            #in the case of a key has already been generated\n",
    "            #update values, stored as a list, associated with that key\n",
    "            crg_all_count[(tuple(array[2]))][0] += array[1]\n",
    "            #update th min energy by:\n",
    "            #1st, search for the min value in the updated list\n",
    "            min_energy = min(min(\n",
    "                crg_all_count[(tuple(array[2]))][1]\n",
    "            ), array[0])\n",
    "            max_energy = max(max(\n",
    "                crg_all_count[(tuple(array[2]))][1]\n",
    "            ), array[0])\n",
    "            # clear the energy list and append min. and max. energy to it\n",
    "            crg_all_count[(tuple(array[2]))][1].clear()\n",
    "            crg_all_count[(tuple(array[2]))][1].append(min_energy)\n",
    "            crg_all_count[(tuple(array[2]))][1].append(max_energy)\n",
    "\n",
    "    # make a list of count, unique charge microstate, energy difference and order.\n",
    "    all_crg_ms_unique = []\n",
    "    all_count = []\n",
    "    energy_diff_all = []\n",
    "    unique_crg_state_order = []\n",
    "    for u, v in crg_all_count.items():\n",
    "        all_crg_ms_unique.append(list(u))\n",
    "        all_count.append(v[0])\n",
    "        unique_crg_state_order.append(v[2][0])\n",
    "        if len(v[1]) == 2:\n",
    "            energy_diff_all.append(round(v[1][1] - v[1][0], 6))\n",
    "        elif len(v[1]) == 1:\n",
    "            energy_diff_all.append(0)\n",
    "        else:\n",
    "            sys.exit(\"There is error while creating unique charge state.\")\n",
    "\n",
    "    print(f\"Total number of state: {len(crg_list_ms)}\")\n",
    "    print(f\"Total number of unique charge ms: {len(all_crg_ms_unique)}\")\n",
    "    return all_crg_ms_unique, all_count, unique_crg_state_order, energy_diff_all\n",
    "            "
   ]
  },
  {
   "cell_type": "code",
   "execution_count": 32,
   "id": "4dffc81d-9f8f-44be-a633-f2de9f3fc20a",
   "metadata": {},
   "outputs": [],
   "source": [
    "def conca_crg_ms_pandas(\n",
    "    unique_crg_ms_list, ms_count, ms_order, free_residues,\n",
    "    background_charge, residue_interest_list\n",
    "):\n",
    "    unique_crg_ms_list_pd = pd.DataFrame(unique_crg_ms_list).T\n",
    "    ms_count_pd = pd.DataFrame(ms_count, columns=[\"Count\"]).T\n",
    "    ms_order_pd = pd.DataFrame(ms_order, columns=[\"Order\"]).T\n",
    "    crg_ms_count_pd = pd.concat(\n",
    "        [unique_crg_ms_list_pd, ms_count_pd, ms_order_pd]\n",
    "    )\n",
    "    crg_count_res_1 = pd.concat(\n",
    "        [free_residues, crg_ms_count_pd], axis=1\n",
    "    )\n",
    "    crg_count_res_1.loc[\"Count\", \"Residue\"] = 'Count'\n",
    "    crg_count_res_1.loc[\"Order\", \"Residue\"] = 'Order'\n",
    "    all_crg_count_res = crg_count_res_1.set_index(\"Residue\")\n",
    "    # sort based on the count\n",
    "    all_crg_count_res = all_crg_count_res.sort_values(\n",
    "        by = \"Count\", axis = 1, ascending=False\n",
    "    )\n",
    "    all_crg_count_res.columns = range(all_crg_count_res.shape[1])\n",
    "    all_crg_count_res = all_crg_count_res.T.set_index(\"Order\")\n",
    "    all_crg_count_res[\"Occupancy\"] = round(\n",
    "        all_crg_count_res[\"Count\"] / sum(all_crg_count_res[\"Count\"]), 3\n",
    "    )\n",
    "    all_crg_count_res['Sum_crg_protein'] = \\\n",
    "    all_crg_count_res.iloc[:, :-2].sum(axis=1) + background_charge\n",
    "    crg_count_res = all_crg_count_res.copy()\n",
    "    for i in all_crg_count_res.columns:\n",
    "        if i[:3] not in residue_interest_list\\\n",
    "        and i != \"Occupancy\" \\\n",
    "        and i != \"Count\" \\\n",
    "        and i != \"Sum_crg_protein\":\n",
    "            crg_count_res.drop([i], axis=1, inplace=True)\n",
    "\n",
    "    return crg_count_res"
   ]
  },
  {
   "cell_type": "markdown",
   "id": "8a4965d0-70ec-4953-a03e-5d0adddb052f",
   "metadata": {},
   "source": [
    "### Select energy microstates associated with residues of interest"
   ]
  },
  {
   "cell_type": "code",
   "execution_count": 33,
   "id": "1f2ec8ac-96b2-4f44-80e5-380667522c2c",
   "metadata": {},
   "outputs": [
    {
     "name": "stdout",
     "output_type": "stream",
     "text": [
      "All energy microstates are selected.\n",
      "Total number of state: 411926\n",
      "Total number of unique charge ms: 46\n"
     ]
    }
   ],
   "source": [
    "charge_ms_file = find_unique_crgms_count_order(crg_orig_list)"
   ]
  },
  {
   "cell_type": "code",
   "execution_count": 34,
   "id": "a6e6af10-e63f-4cb1-8c1d-6a095a559654",
   "metadata": {},
   "outputs": [],
   "source": [
    "all_crg_count_res = conca_crg_ms_pandas(\n",
    "    charge_ms_file[0],\n",
    "    charge_ms_file[1],\n",
    "    charge_ms_file[2],\n",
    "    ms_free_residues,\n",
    "    background_charge,\n",
    "    your_interested_res\n",
    ")"
   ]
  },
  {
   "cell_type": "code",
   "execution_count": 35,
   "id": "64ff4a71-9ef7-4f64-a09c-aab39a7f2e42",
   "metadata": {},
   "outputs": [
    {
     "data": {
      "text/html": [
       "<div>\n",
       "<style scoped>\n",
       "    .dataframe tbody tr th:only-of-type {\n",
       "        vertical-align: middle;\n",
       "    }\n",
       "\n",
       "    .dataframe tbody tr th {\n",
       "        vertical-align: top;\n",
       "    }\n",
       "\n",
       "    .dataframe thead th {\n",
       "        text-align: right;\n",
       "    }\n",
       "</style>\n",
       "<table border=\"1\" class=\"dataframe\">\n",
       "  <thead>\n",
       "    <tr style=\"text-align: right;\">\n",
       "      <th>Residue</th>\n",
       "      <th>GLUA0007_</th>\n",
       "      <th>HISA0015_</th>\n",
       "      <th>ASPA0018_</th>\n",
       "      <th>TYRA0020_</th>\n",
       "      <th>TYRA0023_</th>\n",
       "      <th>SERA0024_</th>\n",
       "      <th>GLUA0035_</th>\n",
       "      <th>SERA0036_</th>\n",
       "      <th>THRA0043_</th>\n",
       "      <th>THRA0047_</th>\n",
       "      <th>...</th>\n",
       "      <th>ASPA0087_</th>\n",
       "      <th>THRA0089_</th>\n",
       "      <th>SERA0100_</th>\n",
       "      <th>ASPA0101_</th>\n",
       "      <th>THRA0118_</th>\n",
       "      <th>ASPA0119_</th>\n",
       "      <th>CTRA0129_</th>\n",
       "      <th>Count</th>\n",
       "      <th>Occupancy</th>\n",
       "      <th>Sum_crg_protein</th>\n",
       "    </tr>\n",
       "    <tr>\n",
       "      <th>Order</th>\n",
       "      <th></th>\n",
       "      <th></th>\n",
       "      <th></th>\n",
       "      <th></th>\n",
       "      <th></th>\n",
       "      <th></th>\n",
       "      <th></th>\n",
       "      <th></th>\n",
       "      <th></th>\n",
       "      <th></th>\n",
       "      <th></th>\n",
       "      <th></th>\n",
       "      <th></th>\n",
       "      <th></th>\n",
       "      <th></th>\n",
       "      <th></th>\n",
       "      <th></th>\n",
       "      <th></th>\n",
       "      <th></th>\n",
       "      <th></th>\n",
       "      <th></th>\n",
       "    </tr>\n",
       "  </thead>\n",
       "  <tbody>\n",
       "    <tr>\n",
       "      <th>1.0</th>\n",
       "      <td>0.0</td>\n",
       "      <td>1.0</td>\n",
       "      <td>0.0</td>\n",
       "      <td>0.0</td>\n",
       "      <td>0.0</td>\n",
       "      <td>0.0</td>\n",
       "      <td>0.0</td>\n",
       "      <td>0.0</td>\n",
       "      <td>0.0</td>\n",
       "      <td>0.0</td>\n",
       "      <td>...</td>\n",
       "      <td>0.0</td>\n",
       "      <td>0.0</td>\n",
       "      <td>0.0</td>\n",
       "      <td>0.0</td>\n",
       "      <td>0.0</td>\n",
       "      <td>0.0</td>\n",
       "      <td>0.0</td>\n",
       "      <td>1129301.0</td>\n",
       "      <td>0.753</td>\n",
       "      <td>19.0</td>\n",
       "    </tr>\n",
       "    <tr>\n",
       "      <th>2.0</th>\n",
       "      <td>0.0</td>\n",
       "      <td>1.0</td>\n",
       "      <td>0.0</td>\n",
       "      <td>0.0</td>\n",
       "      <td>0.0</td>\n",
       "      <td>0.0</td>\n",
       "      <td>0.0</td>\n",
       "      <td>0.0</td>\n",
       "      <td>0.0</td>\n",
       "      <td>0.0</td>\n",
       "      <td>...</td>\n",
       "      <td>0.0</td>\n",
       "      <td>0.0</td>\n",
       "      <td>0.0</td>\n",
       "      <td>0.0</td>\n",
       "      <td>0.0</td>\n",
       "      <td>0.0</td>\n",
       "      <td>0.0</td>\n",
       "      <td>190004.0</td>\n",
       "      <td>0.127</td>\n",
       "      <td>18.0</td>\n",
       "    </tr>\n",
       "    <tr>\n",
       "      <th>4.0</th>\n",
       "      <td>0.0</td>\n",
       "      <td>1.0</td>\n",
       "      <td>0.0</td>\n",
       "      <td>0.0</td>\n",
       "      <td>0.0</td>\n",
       "      <td>0.0</td>\n",
       "      <td>0.0</td>\n",
       "      <td>0.0</td>\n",
       "      <td>0.0</td>\n",
       "      <td>0.0</td>\n",
       "      <td>...</td>\n",
       "      <td>0.0</td>\n",
       "      <td>0.0</td>\n",
       "      <td>0.0</td>\n",
       "      <td>0.0</td>\n",
       "      <td>0.0</td>\n",
       "      <td>0.0</td>\n",
       "      <td>0.0</td>\n",
       "      <td>53465.0</td>\n",
       "      <td>0.036</td>\n",
       "      <td>18.0</td>\n",
       "    </tr>\n",
       "    <tr>\n",
       "      <th>3.0</th>\n",
       "      <td>0.0</td>\n",
       "      <td>1.0</td>\n",
       "      <td>-1.0</td>\n",
       "      <td>0.0</td>\n",
       "      <td>0.0</td>\n",
       "      <td>0.0</td>\n",
       "      <td>0.0</td>\n",
       "      <td>0.0</td>\n",
       "      <td>0.0</td>\n",
       "      <td>0.0</td>\n",
       "      <td>...</td>\n",
       "      <td>0.0</td>\n",
       "      <td>0.0</td>\n",
       "      <td>0.0</td>\n",
       "      <td>0.0</td>\n",
       "      <td>0.0</td>\n",
       "      <td>0.0</td>\n",
       "      <td>0.0</td>\n",
       "      <td>36175.0</td>\n",
       "      <td>0.024</td>\n",
       "      <td>18.0</td>\n",
       "    </tr>\n",
       "    <tr>\n",
       "      <th>5.0</th>\n",
       "      <td>0.0</td>\n",
       "      <td>1.0</td>\n",
       "      <td>0.0</td>\n",
       "      <td>0.0</td>\n",
       "      <td>0.0</td>\n",
       "      <td>0.0</td>\n",
       "      <td>0.0</td>\n",
       "      <td>0.0</td>\n",
       "      <td>0.0</td>\n",
       "      <td>0.0</td>\n",
       "      <td>...</td>\n",
       "      <td>-1.0</td>\n",
       "      <td>0.0</td>\n",
       "      <td>0.0</td>\n",
       "      <td>0.0</td>\n",
       "      <td>0.0</td>\n",
       "      <td>0.0</td>\n",
       "      <td>0.0</td>\n",
       "      <td>36096.0</td>\n",
       "      <td>0.024</td>\n",
       "      <td>18.0</td>\n",
       "    </tr>\n",
       "  </tbody>\n",
       "</table>\n",
       "<p>5 rows × 31 columns</p>\n",
       "</div>"
      ],
      "text/plain": [
       "Residue  GLUA0007_  HISA0015_  ASPA0018_  TYRA0020_  TYRA0023_  SERA0024_  \\\n",
       "Order                                                                       \n",
       "1.0            0.0        1.0        0.0        0.0        0.0        0.0   \n",
       "2.0            0.0        1.0        0.0        0.0        0.0        0.0   \n",
       "4.0            0.0        1.0        0.0        0.0        0.0        0.0   \n",
       "3.0            0.0        1.0       -1.0        0.0        0.0        0.0   \n",
       "5.0            0.0        1.0        0.0        0.0        0.0        0.0   \n",
       "\n",
       "Residue  GLUA0035_  SERA0036_  THRA0043_  THRA0047_  ...  ASPA0087_  \\\n",
       "Order                                                ...              \n",
       "1.0            0.0        0.0        0.0        0.0  ...        0.0   \n",
       "2.0            0.0        0.0        0.0        0.0  ...        0.0   \n",
       "4.0            0.0        0.0        0.0        0.0  ...        0.0   \n",
       "3.0            0.0        0.0        0.0        0.0  ...        0.0   \n",
       "5.0            0.0        0.0        0.0        0.0  ...       -1.0   \n",
       "\n",
       "Residue  THRA0089_  SERA0100_  ASPA0101_  THRA0118_  ASPA0119_  CTRA0129_  \\\n",
       "Order                                                                       \n",
       "1.0            0.0        0.0        0.0        0.0        0.0        0.0   \n",
       "2.0            0.0        0.0        0.0        0.0        0.0        0.0   \n",
       "4.0            0.0        0.0        0.0        0.0        0.0        0.0   \n",
       "3.0            0.0        0.0        0.0        0.0        0.0        0.0   \n",
       "5.0            0.0        0.0        0.0        0.0        0.0        0.0   \n",
       "\n",
       "Residue      Count  Occupancy  Sum_crg_protein  \n",
       "Order                                           \n",
       "1.0      1129301.0      0.753             19.0  \n",
       "2.0       190004.0      0.127             18.0  \n",
       "4.0        53465.0      0.036             18.0  \n",
       "3.0        36175.0      0.024             18.0  \n",
       "5.0        36096.0      0.024             18.0  \n",
       "\n",
       "[5 rows x 31 columns]"
      ]
     },
     "execution_count": 35,
     "metadata": {},
     "output_type": "execute_result"
    }
   ],
   "source": [
    "all_crg_count_res.head()"
   ]
  },
  {
   "cell_type": "code",
   "execution_count": 51,
   "id": "207ea722-0b7a-42dc-9660-1f4edbb2a6a3",
   "metadata": {},
   "outputs": [
    {
     "data": {
      "text/plain": [
       "pandas.core.frame.DataFrame"
      ]
     },
     "execution_count": 51,
     "metadata": {},
     "output_type": "execute_result"
    }
   ],
   "source": [
    "type(all_crg_count)"
   ]
  },
  {
   "cell_type": "code",
   "execution_count": 52,
   "id": "6c7f246f-395e-4545-aba9-397d627c0207",
   "metadata": {},
   "outputs": [],
   "source": [
    "test_path = '/Users/delcck/Desktop/Research/Project_MCCE/work_dir/4lzt/test_case_for_namd.csv'\n",
    "\n",
    "all_crg_count_res.to_csv(test_path, index=False)"
   ]
  },
  {
   "cell_type": "markdown",
   "id": "f2c2ab44-99c6-4b33-83ad-4aa3d6cfbe4e",
   "metadata": {},
   "source": [
    "### Visualize the tautomer charge distribution of unique charge microstate based on the occupancy.\n",
    "\n",
    "Each dot is a unique charge microstate and its color code is based on the energy difference of that microstate appear in Monte Carlo run. The total charge is the sum of background charge and free charge (protein charge)."
   ]
  },
  {
   "cell_type": "code",
   "execution_count": 36,
   "id": "5a30e61a-4c4a-4785-b62d-c102475d97fb",
   "metadata": {},
   "outputs": [],
   "source": [
    "import seaborn as sns\n",
    "import matplotlib.pyplot as plt\n",
    "import math\n",
    "%matplotlib inline"
   ]
  },
  {
   "cell_type": "code",
   "execution_count": 37,
   "id": "6acf4a81-d034-43bb-828e-9b58ff055e3b",
   "metadata": {},
   "outputs": [],
   "source": [
    "x_av = [\n",
    "    sum(x) + background_charge for x in charge_ms_file[0]\n",
    "]\n",
    "y_av = [\n",
    "    math.log10(x) for x in charge_ms_file[1]\n",
    "]\n",
    "energy_diff_all_fl = [\n",
    "    float(x) for x in charge_ms_file[3]\n",
    "]"
   ]
  },
  {
   "cell_type": "code",
   "execution_count": 38,
   "id": "88a7e93b-f27a-4506-824c-07aa93710b03",
   "metadata": {},
   "outputs": [
    {
     "data": {
      "image/png": "[encoded data removed]",
      "text/plain": [
       "<Figure size 600x600 with 3 Axes>"
      ]
     },
     "metadata": {},
     "output_type": "display_data"
    }
   ],
   "source": [
    "g1 = sns.JointGrid(marginal_ticks=True, height=6)\n",
    "#--scatter plot\n",
    "ax = sns.scatterplot(\n",
    "    x=x_av, y=y_av, hue=energy_diff_all_fl,\n",
    "    palette='viridis', size=energy_diff_all_fl,\n",
    "    sizes=(10, 200), ax=g1.ax_joint\n",
    ")\n",
    "ax.set_xticks(range(int(min(x_av)), int(max(x_av)) + 1))\n",
    "ax.set_xlabel(\"Charge\", fontsize=15)\n",
    "ax.set_ylabel(\"log$_{10}$(Count)\", fontsize=16)\n",
    "ax.legend(bbox_to_anchor=(1.05, 1), loc=2, borderaxespad=0.)\n",
    "#--hist on top\n",
    "ax2 = sns.histplot(x=x_av, linewidth=2, discrete=True, ax=g1.ax_marg_x)\n",
    "\n",
    "ax2.set_ylabel(None, fontsize=16)\n",
    "g1.ax_marg_y.set_axis_off()\n",
    "g1.fig.subplots_adjust(top=0.9)\n",
    "g1.fig.suptitle('All microstate energy(dry2_semi)_pH7', fontsize=16)\n",
    "g1.savefig(\"all_en_cr_ph7_vs_log(count).pdf\", dpi=600, bbox_inches=\"tight\");"
   ]
  },
  {
   "cell_type": "markdown",
   "id": "e8420697-42d4-47f4-b62f-f56b578b0475",
   "metadata": {},
   "source": [
    "Now, let repeat the above process, but for microstate with an energy less than or equal to the lowest energy + 1.36KCal/Mol.\n",
    "\n",
    "Make sure your supplied list is pre-sorted based on energy in ascednign order.\n",
    "\n",
    "Below is a dataFrame for such an example."
   ]
  },
  {
   "cell_type": "code",
   "execution_count": 39,
   "id": "776b5550-03bd-4c1e-963b-b56427613a53",
   "metadata": {},
   "outputs": [
    {
     "name": "stdout",
     "output_type": "stream",
     "text": [
      "Total number of state: 1240\n",
      "Total number of unique charge ms: 2\n"
     ]
    }
   ],
   "source": [
    "lowest_charge_ms_file = find_unique_crgms_count_order(\n",
    "    crg_orig_list, \n",
    "    begin_energy=crg_orig_list[0][0],\n",
    "    end_energy=crg_orig_list[0][0] + 1.36\n",
    ")\n",
    "low_crg_count_res = conca_crg_ms_pandas(\n",
    "    lowest_charge_ms_file[0],\n",
    "    lowest_charge_ms_file[1],\n",
    "    lowest_charge_ms_file[2],\n",
    "    ms_free_residues,\n",
    "    background_charge,\n",
    "    your_interested_res\n",
    ")"
   ]
  },
  {
   "cell_type": "code",
   "execution_count": 40,
   "id": "180d3789-2033-4292-83f7-c9e9cd672382",
   "metadata": {},
   "outputs": [
    {
     "data": {
      "text/html": [
       "<div>\n",
       "<style scoped>\n",
       "    .dataframe tbody tr th:only-of-type {\n",
       "        vertical-align: middle;\n",
       "    }\n",
       "\n",
       "    .dataframe tbody tr th {\n",
       "        vertical-align: top;\n",
       "    }\n",
       "\n",
       "    .dataframe thead th {\n",
       "        text-align: right;\n",
       "    }\n",
       "</style>\n",
       "<table border=\"1\" class=\"dataframe\">\n",
       "  <thead>\n",
       "    <tr style=\"text-align: right;\">\n",
       "      <th>Residue</th>\n",
       "      <th>GLUA0007_</th>\n",
       "      <th>HISA0015_</th>\n",
       "      <th>ASPA0018_</th>\n",
       "      <th>TYRA0020_</th>\n",
       "      <th>TYRA0023_</th>\n",
       "      <th>SERA0024_</th>\n",
       "      <th>GLUA0035_</th>\n",
       "      <th>SERA0036_</th>\n",
       "      <th>THRA0043_</th>\n",
       "      <th>THRA0047_</th>\n",
       "      <th>...</th>\n",
       "      <th>ASPA0087_</th>\n",
       "      <th>THRA0089_</th>\n",
       "      <th>SERA0100_</th>\n",
       "      <th>ASPA0101_</th>\n",
       "      <th>THRA0118_</th>\n",
       "      <th>ASPA0119_</th>\n",
       "      <th>CTRA0129_</th>\n",
       "      <th>Count</th>\n",
       "      <th>Occupancy</th>\n",
       "      <th>Sum_crg_protein</th>\n",
       "    </tr>\n",
       "    <tr>\n",
       "      <th>Order</th>\n",
       "      <th></th>\n",
       "      <th></th>\n",
       "      <th></th>\n",
       "      <th></th>\n",
       "      <th></th>\n",
       "      <th></th>\n",
       "      <th></th>\n",
       "      <th></th>\n",
       "      <th></th>\n",
       "      <th></th>\n",
       "      <th></th>\n",
       "      <th></th>\n",
       "      <th></th>\n",
       "      <th></th>\n",
       "      <th></th>\n",
       "      <th></th>\n",
       "      <th></th>\n",
       "      <th></th>\n",
       "      <th></th>\n",
       "      <th></th>\n",
       "      <th></th>\n",
       "    </tr>\n",
       "  </thead>\n",
       "  <tbody>\n",
       "    <tr>\n",
       "      <th>1.0</th>\n",
       "      <td>0.0</td>\n",
       "      <td>1.0</td>\n",
       "      <td>0.0</td>\n",
       "      <td>0.0</td>\n",
       "      <td>0.0</td>\n",
       "      <td>0.0</td>\n",
       "      <td>0.0</td>\n",
       "      <td>0.0</td>\n",
       "      <td>0.0</td>\n",
       "      <td>0.0</td>\n",
       "      <td>...</td>\n",
       "      <td>0.0</td>\n",
       "      <td>0.0</td>\n",
       "      <td>0.0</td>\n",
       "      <td>0.0</td>\n",
       "      <td>0.0</td>\n",
       "      <td>0.0</td>\n",
       "      <td>0.0</td>\n",
       "      <td>8957.0</td>\n",
       "      <td>0.999</td>\n",
       "      <td>19.0</td>\n",
       "    </tr>\n",
       "    <tr>\n",
       "      <th>2.0</th>\n",
       "      <td>0.0</td>\n",
       "      <td>1.0</td>\n",
       "      <td>0.0</td>\n",
       "      <td>0.0</td>\n",
       "      <td>0.0</td>\n",
       "      <td>0.0</td>\n",
       "      <td>0.0</td>\n",
       "      <td>0.0</td>\n",
       "      <td>0.0</td>\n",
       "      <td>0.0</td>\n",
       "      <td>...</td>\n",
       "      <td>0.0</td>\n",
       "      <td>0.0</td>\n",
       "      <td>0.0</td>\n",
       "      <td>0.0</td>\n",
       "      <td>0.0</td>\n",
       "      <td>0.0</td>\n",
       "      <td>0.0</td>\n",
       "      <td>10.0</td>\n",
       "      <td>0.001</td>\n",
       "      <td>18.0</td>\n",
       "    </tr>\n",
       "  </tbody>\n",
       "</table>\n",
       "<p>2 rows × 31 columns</p>\n",
       "</div>"
      ],
      "text/plain": [
       "Residue  GLUA0007_  HISA0015_  ASPA0018_  TYRA0020_  TYRA0023_  SERA0024_  \\\n",
       "Order                                                                       \n",
       "1.0            0.0        1.0        0.0        0.0        0.0        0.0   \n",
       "2.0            0.0        1.0        0.0        0.0        0.0        0.0   \n",
       "\n",
       "Residue  GLUA0035_  SERA0036_  THRA0043_  THRA0047_  ...  ASPA0087_  \\\n",
       "Order                                                ...              \n",
       "1.0            0.0        0.0        0.0        0.0  ...        0.0   \n",
       "2.0            0.0        0.0        0.0        0.0  ...        0.0   \n",
       "\n",
       "Residue  THRA0089_  SERA0100_  ASPA0101_  THRA0118_  ASPA0119_  CTRA0129_  \\\n",
       "Order                                                                       \n",
       "1.0            0.0        0.0        0.0        0.0        0.0        0.0   \n",
       "2.0            0.0        0.0        0.0        0.0        0.0        0.0   \n",
       "\n",
       "Residue   Count  Occupancy  Sum_crg_protein  \n",
       "Order                                        \n",
       "1.0      8957.0      0.999             19.0  \n",
       "2.0        10.0      0.001             18.0  \n",
       "\n",
       "[2 rows x 31 columns]"
      ]
     },
     "execution_count": 40,
     "metadata": {},
     "output_type": "execute_result"
    }
   ],
   "source": [
    "low_crg_count_res.head()"
   ]
  },
  {
   "cell_type": "markdown",
   "id": "2fb616f0-b152-4668-be12-37006a744992",
   "metadata": {},
   "source": [
    "Now, we would try another example of getting microstates around +/- 0.5 pH unit (+/- 0.68 Kcal/Mol) of the average microstate energy.\n",
    "\n",
    "Data shown in the resulting dataframe is here within the selected energy range."
   ]
  },
  {
   "cell_type": "code",
   "execution_count": 42,
   "id": "b14d5d54-67ec-4e33-932f-a4cd8884e522",
   "metadata": {},
   "outputs": [
    {
     "name": "stdout",
     "output_type": "stream",
     "text": [
      "Total number of state: 90387\n",
      "Total number of unique charge ms: 26\n"
     ]
    }
   ],
   "source": [
    "average_charge_ms_file = find_unique_crgms_count_order(\n",
    "    crg_orig_list,\n",
    "    begin_energy=(mc.average_E - 0.68),\n",
    "    end_energy=(mc.average_E + 0.68)\n",
    ")\n",
    "av_crg_count_res = conca_crg_ms_pandas(\n",
    "    average_charge_ms_file[0],\n",
    "    average_charge_ms_file[1],\n",
    "    average_charge_ms_file[2],\n",
    "    ms_free_residues,\n",
    "    background_charge,\n",
    "    your_interested_res\n",
    ")"
   ]
  },
  {
   "cell_type": "code",
   "execution_count": 43,
   "id": "ffd05726-31dc-4dcb-925e-f3136aaae2eb",
   "metadata": {},
   "outputs": [
    {
     "data": {
      "text/html": [
       "<div>\n",
       "<style scoped>\n",
       "    .dataframe tbody tr th:only-of-type {\n",
       "        vertical-align: middle;\n",
       "    }\n",
       "\n",
       "    .dataframe tbody tr th {\n",
       "        vertical-align: top;\n",
       "    }\n",
       "\n",
       "    .dataframe thead th {\n",
       "        text-align: right;\n",
       "    }\n",
       "</style>\n",
       "<table border=\"1\" class=\"dataframe\">\n",
       "  <thead>\n",
       "    <tr style=\"text-align: right;\">\n",
       "      <th>Residue</th>\n",
       "      <th>GLUA0007_</th>\n",
       "      <th>HISA0015_</th>\n",
       "      <th>ASPA0018_</th>\n",
       "      <th>TYRA0020_</th>\n",
       "      <th>TYRA0023_</th>\n",
       "      <th>SERA0024_</th>\n",
       "      <th>GLUA0035_</th>\n",
       "      <th>SERA0036_</th>\n",
       "      <th>THRA0043_</th>\n",
       "      <th>THRA0047_</th>\n",
       "      <th>...</th>\n",
       "      <th>ASPA0087_</th>\n",
       "      <th>THRA0089_</th>\n",
       "      <th>SERA0100_</th>\n",
       "      <th>ASPA0101_</th>\n",
       "      <th>THRA0118_</th>\n",
       "      <th>ASPA0119_</th>\n",
       "      <th>CTRA0129_</th>\n",
       "      <th>Count</th>\n",
       "      <th>Occupancy</th>\n",
       "      <th>Sum_crg_protein</th>\n",
       "    </tr>\n",
       "    <tr>\n",
       "      <th>Order</th>\n",
       "      <th></th>\n",
       "      <th></th>\n",
       "      <th></th>\n",
       "      <th></th>\n",
       "      <th></th>\n",
       "      <th></th>\n",
       "      <th></th>\n",
       "      <th></th>\n",
       "      <th></th>\n",
       "      <th></th>\n",
       "      <th></th>\n",
       "      <th></th>\n",
       "      <th></th>\n",
       "      <th></th>\n",
       "      <th></th>\n",
       "      <th></th>\n",
       "      <th></th>\n",
       "      <th></th>\n",
       "      <th></th>\n",
       "      <th></th>\n",
       "      <th></th>\n",
       "    </tr>\n",
       "  </thead>\n",
       "  <tbody>\n",
       "    <tr>\n",
       "      <th>1.0</th>\n",
       "      <td>0.0</td>\n",
       "      <td>1.0</td>\n",
       "      <td>0.0</td>\n",
       "      <td>0.0</td>\n",
       "      <td>0.0</td>\n",
       "      <td>0.0</td>\n",
       "      <td>0.0</td>\n",
       "      <td>0.0</td>\n",
       "      <td>0.0</td>\n",
       "      <td>0.0</td>\n",
       "      <td>...</td>\n",
       "      <td>0.0</td>\n",
       "      <td>0.0</td>\n",
       "      <td>0.0</td>\n",
       "      <td>0.0</td>\n",
       "      <td>0.0</td>\n",
       "      <td>0.0</td>\n",
       "      <td>0.0</td>\n",
       "      <td>239661.0</td>\n",
       "      <td>0.733</td>\n",
       "      <td>19.0</td>\n",
       "    </tr>\n",
       "    <tr>\n",
       "      <th>4.0</th>\n",
       "      <td>0.0</td>\n",
       "      <td>1.0</td>\n",
       "      <td>0.0</td>\n",
       "      <td>0.0</td>\n",
       "      <td>0.0</td>\n",
       "      <td>0.0</td>\n",
       "      <td>0.0</td>\n",
       "      <td>0.0</td>\n",
       "      <td>0.0</td>\n",
       "      <td>0.0</td>\n",
       "      <td>...</td>\n",
       "      <td>0.0</td>\n",
       "      <td>0.0</td>\n",
       "      <td>0.0</td>\n",
       "      <td>0.0</td>\n",
       "      <td>0.0</td>\n",
       "      <td>0.0</td>\n",
       "      <td>0.0</td>\n",
       "      <td>47439.0</td>\n",
       "      <td>0.145</td>\n",
       "      <td>18.0</td>\n",
       "    </tr>\n",
       "    <tr>\n",
       "      <th>3.0</th>\n",
       "      <td>0.0</td>\n",
       "      <td>1.0</td>\n",
       "      <td>0.0</td>\n",
       "      <td>0.0</td>\n",
       "      <td>0.0</td>\n",
       "      <td>0.0</td>\n",
       "      <td>0.0</td>\n",
       "      <td>0.0</td>\n",
       "      <td>0.0</td>\n",
       "      <td>0.0</td>\n",
       "      <td>...</td>\n",
       "      <td>0.0</td>\n",
       "      <td>0.0</td>\n",
       "      <td>0.0</td>\n",
       "      <td>0.0</td>\n",
       "      <td>0.0</td>\n",
       "      <td>0.0</td>\n",
       "      <td>0.0</td>\n",
       "      <td>12467.0</td>\n",
       "      <td>0.038</td>\n",
       "      <td>18.0</td>\n",
       "    </tr>\n",
       "    <tr>\n",
       "      <th>6.0</th>\n",
       "      <td>0.0</td>\n",
       "      <td>1.0</td>\n",
       "      <td>0.0</td>\n",
       "      <td>0.0</td>\n",
       "      <td>0.0</td>\n",
       "      <td>0.0</td>\n",
       "      <td>0.0</td>\n",
       "      <td>0.0</td>\n",
       "      <td>0.0</td>\n",
       "      <td>0.0</td>\n",
       "      <td>...</td>\n",
       "      <td>-1.0</td>\n",
       "      <td>0.0</td>\n",
       "      <td>0.0</td>\n",
       "      <td>0.0</td>\n",
       "      <td>0.0</td>\n",
       "      <td>0.0</td>\n",
       "      <td>0.0</td>\n",
       "      <td>8737.0</td>\n",
       "      <td>0.027</td>\n",
       "      <td>18.0</td>\n",
       "    </tr>\n",
       "    <tr>\n",
       "      <th>9.0</th>\n",
       "      <td>0.0</td>\n",
       "      <td>1.0</td>\n",
       "      <td>-1.0</td>\n",
       "      <td>0.0</td>\n",
       "      <td>0.0</td>\n",
       "      <td>0.0</td>\n",
       "      <td>0.0</td>\n",
       "      <td>0.0</td>\n",
       "      <td>0.0</td>\n",
       "      <td>0.0</td>\n",
       "      <td>...</td>\n",
       "      <td>0.0</td>\n",
       "      <td>0.0</td>\n",
       "      <td>0.0</td>\n",
       "      <td>0.0</td>\n",
       "      <td>0.0</td>\n",
       "      <td>0.0</td>\n",
       "      <td>0.0</td>\n",
       "      <td>8479.0</td>\n",
       "      <td>0.026</td>\n",
       "      <td>18.0</td>\n",
       "    </tr>\n",
       "  </tbody>\n",
       "</table>\n",
       "<p>5 rows × 31 columns</p>\n",
       "</div>"
      ],
      "text/plain": [
       "Residue  GLUA0007_  HISA0015_  ASPA0018_  TYRA0020_  TYRA0023_  SERA0024_  \\\n",
       "Order                                                                       \n",
       "1.0            0.0        1.0        0.0        0.0        0.0        0.0   \n",
       "4.0            0.0        1.0        0.0        0.0        0.0        0.0   \n",
       "3.0            0.0        1.0        0.0        0.0        0.0        0.0   \n",
       "6.0            0.0        1.0        0.0        0.0        0.0        0.0   \n",
       "9.0            0.0        1.0       -1.0        0.0        0.0        0.0   \n",
       "\n",
       "Residue  GLUA0035_  SERA0036_  THRA0043_  THRA0047_  ...  ASPA0087_  \\\n",
       "Order                                                ...              \n",
       "1.0            0.0        0.0        0.0        0.0  ...        0.0   \n",
       "4.0            0.0        0.0        0.0        0.0  ...        0.0   \n",
       "3.0            0.0        0.0        0.0        0.0  ...        0.0   \n",
       "6.0            0.0        0.0        0.0        0.0  ...       -1.0   \n",
       "9.0            0.0        0.0        0.0        0.0  ...        0.0   \n",
       "\n",
       "Residue  THRA0089_  SERA0100_  ASPA0101_  THRA0118_  ASPA0119_  CTRA0129_  \\\n",
       "Order                                                                       \n",
       "1.0            0.0        0.0        0.0        0.0        0.0        0.0   \n",
       "4.0            0.0        0.0        0.0        0.0        0.0        0.0   \n",
       "3.0            0.0        0.0        0.0        0.0        0.0        0.0   \n",
       "6.0            0.0        0.0        0.0        0.0        0.0        0.0   \n",
       "9.0            0.0        0.0        0.0        0.0        0.0        0.0   \n",
       "\n",
       "Residue     Count  Occupancy  Sum_crg_protein  \n",
       "Order                                          \n",
       "1.0      239661.0      0.733             19.0  \n",
       "4.0       47439.0      0.145             18.0  \n",
       "3.0       12467.0      0.038             18.0  \n",
       "6.0        8737.0      0.027             18.0  \n",
       "9.0        8479.0      0.026             18.0  \n",
       "\n",
       "[5 rows x 31 columns]"
      ]
     },
     "execution_count": 43,
     "metadata": {},
     "output_type": "execute_result"
    }
   ],
   "source": [
    "av_crg_count_res.head()"
   ]
  },
  {
   "cell_type": "markdown",
   "id": "8e5770fc-e520-41a4-83af-ab33736e9a21",
   "metadata": {},
   "source": [
    "Now, another example of getting the unique charge microstate of 1KT unit (1.36 Kcal/Mol) less of equal to the highest recorded energy state."
   ]
  },
  {
   "cell_type": "code",
   "execution_count": 44,
   "id": "7572dff9-03fa-4375-ac45-259860acee1c",
   "metadata": {},
   "outputs": [
    {
     "name": "stdout",
     "output_type": "stream",
     "text": [
      "Total number of state: 4\n",
      "Total number of unique charge ms: 1\n"
     ]
    }
   ],
   "source": [
    "highest_charge_ms_file = find_unique_crgms_count_order(\n",
    "    crg_orig_list,\n",
    "    begin_energy=(mc.highest_E - 1.36),\n",
    "    end_energy=(mc.highest_E)\n",
    ")\n",
    "high_crg_count_res = conca_crg_ms_pandas(\n",
    "    highest_charge_ms_file[0],\n",
    "    highest_charge_ms_file[1],\n",
    "    highest_charge_ms_file[2],\n",
    "    ms_free_residues,\n",
    "    background_charge,\n",
    "    your_interested_res\n",
    ")"
   ]
  },
  {
   "cell_type": "code",
   "execution_count": 45,
   "id": "88d9c674-1b08-40fc-be77-8e8914f9e0cf",
   "metadata": {},
   "outputs": [
    {
     "data": {
      "text/html": [
       "<div>\n",
       "<style scoped>\n",
       "    .dataframe tbody tr th:only-of-type {\n",
       "        vertical-align: middle;\n",
       "    }\n",
       "\n",
       "    .dataframe tbody tr th {\n",
       "        vertical-align: top;\n",
       "    }\n",
       "\n",
       "    .dataframe thead th {\n",
       "        text-align: right;\n",
       "    }\n",
       "</style>\n",
       "<table border=\"1\" class=\"dataframe\">\n",
       "  <thead>\n",
       "    <tr style=\"text-align: right;\">\n",
       "      <th>Residue</th>\n",
       "      <th>GLUA0007_</th>\n",
       "      <th>HISA0015_</th>\n",
       "      <th>ASPA0018_</th>\n",
       "      <th>TYRA0020_</th>\n",
       "      <th>TYRA0023_</th>\n",
       "      <th>SERA0024_</th>\n",
       "      <th>GLUA0035_</th>\n",
       "      <th>SERA0036_</th>\n",
       "      <th>THRA0043_</th>\n",
       "      <th>THRA0047_</th>\n",
       "      <th>...</th>\n",
       "      <th>ASPA0087_</th>\n",
       "      <th>THRA0089_</th>\n",
       "      <th>SERA0100_</th>\n",
       "      <th>ASPA0101_</th>\n",
       "      <th>THRA0118_</th>\n",
       "      <th>ASPA0119_</th>\n",
       "      <th>CTRA0129_</th>\n",
       "      <th>Count</th>\n",
       "      <th>Occupancy</th>\n",
       "      <th>Sum_crg_protein</th>\n",
       "    </tr>\n",
       "    <tr>\n",
       "      <th>Order</th>\n",
       "      <th></th>\n",
       "      <th></th>\n",
       "      <th></th>\n",
       "      <th></th>\n",
       "      <th></th>\n",
       "      <th></th>\n",
       "      <th></th>\n",
       "      <th></th>\n",
       "      <th></th>\n",
       "      <th></th>\n",
       "      <th></th>\n",
       "      <th></th>\n",
       "      <th></th>\n",
       "      <th></th>\n",
       "      <th></th>\n",
       "      <th></th>\n",
       "      <th></th>\n",
       "      <th></th>\n",
       "      <th></th>\n",
       "      <th></th>\n",
       "      <th></th>\n",
       "    </tr>\n",
       "  </thead>\n",
       "  <tbody>\n",
       "    <tr>\n",
       "      <th>1.0</th>\n",
       "      <td>0.0</td>\n",
       "      <td>1.0</td>\n",
       "      <td>0.0</td>\n",
       "      <td>0.0</td>\n",
       "      <td>0.0</td>\n",
       "      <td>0.0</td>\n",
       "      <td>0.0</td>\n",
       "      <td>0.0</td>\n",
       "      <td>0.0</td>\n",
       "      <td>0.0</td>\n",
       "      <td>...</td>\n",
       "      <td>0.0</td>\n",
       "      <td>0.0</td>\n",
       "      <td>0.0</td>\n",
       "      <td>0.0</td>\n",
       "      <td>0.0</td>\n",
       "      <td>0.0</td>\n",
       "      <td>0.0</td>\n",
       "      <td>11.0</td>\n",
       "      <td>1.0</td>\n",
       "      <td>19.0</td>\n",
       "    </tr>\n",
       "  </tbody>\n",
       "</table>\n",
       "<p>1 rows × 31 columns</p>\n",
       "</div>"
      ],
      "text/plain": [
       "Residue  GLUA0007_  HISA0015_  ASPA0018_  TYRA0020_  TYRA0023_  SERA0024_  \\\n",
       "Order                                                                       \n",
       "1.0            0.0        1.0        0.0        0.0        0.0        0.0   \n",
       "\n",
       "Residue  GLUA0035_  SERA0036_  THRA0043_  THRA0047_  ...  ASPA0087_  \\\n",
       "Order                                                ...              \n",
       "1.0            0.0        0.0        0.0        0.0  ...        0.0   \n",
       "\n",
       "Residue  THRA0089_  SERA0100_  ASPA0101_  THRA0118_  ASPA0119_  CTRA0129_  \\\n",
       "Order                                                                       \n",
       "1.0            0.0        0.0        0.0        0.0        0.0        0.0   \n",
       "\n",
       "Residue  Count  Occupancy  Sum_crg_protein  \n",
       "Order                                       \n",
       "1.0       11.0        1.0             19.0  \n",
       "\n",
       "[1 rows x 31 columns]"
      ]
     },
     "execution_count": 45,
     "metadata": {},
     "output_type": "execute_result"
    }
   ],
   "source": [
    "high_crg_count_res.head()"
   ]
  },
  {
   "cell_type": "markdown",
   "id": "5c9eb25c-ec14-4d98-bdb7-d9ef81c216fc",
   "metadata": {},
   "source": [
    "We now save all our calculated dataframe for later use."
   ]
  },
  {
   "cell_type": "code",
   "execution_count": 46,
   "id": "0106a7e0-3869-494a-a457-37b57fef157a",
   "metadata": {},
   "outputs": [],
   "source": [
    "# save all three data frames and non titrable residues charge informatino.\n",
    "writer = pd.ExcelWriter('charge_ms_dry2_semi_pH7.xlsx', engine='xlsxwriter')\n",
    "low_crg_count_res.to_excel(writer, sheet_name='low_crg_count_res')\n",
    "av_crg_count_res.to_excel(writer, sheet_name='av_crg_count_res')\n",
    "high_crg_count_res.to_excel(writer, sheet_name='high_crg_count_res')\n",
    "fixed_residues_crg.to_excel(writer, sheet_name='fixed_residues_crg')\n",
    "#writer.save() #removed in the most recent version of pandas & xlsxwrite\n",
    "#use instead\n",
    "writer.close()"
   ]
  },
  {
   "cell_type": "code",
   "execution_count": 47,
   "id": "228e3924-51d0-44f0-8f2f-651f53cd0c87",
   "metadata": {},
   "outputs": [],
   "source": [
    "all_crg_count_res.to_csv('all_crg_count_res.csv', header=True)"
   ]
  },
  {
   "cell_type": "markdown",
   "id": "5256d613-6bf0-403e-b192-e7e15031f84f",
   "metadata": {},
   "source": [
    "### Post processing of already saved files.\n",
    "\n",
    "Our aim is to get the correlation matrix for residues"
   ]
  },
  {
   "cell_type": "code",
   "execution_count": 48,
   "id": "44ed9242-5595-4940-aea4-8d31061c471c",
   "metadata": {},
   "outputs": [],
   "source": [
    "import pandas as pd"
   ]
  },
  {
   "cell_type": "code",
   "execution_count": 49,
   "id": "42143908-3cd5-4bc5-9d40-25ae70fd0f2d",
   "metadata": {},
   "outputs": [],
   "source": [
    "all_crg_count_read = pd.read_csv(\n",
    "    'all_crg_count_res.csv', index_col=0\n",
    ")\n",
    "all_crg_count = all_crg_count_read.iloc[:, :-2]\n",
    "all_crg_count = all_crg_count.T"
   ]
  },
  {
   "cell_type": "code",
   "execution_count": 50,
   "id": "d626cd6a-3c22-4653-b93c-e40c96231db6",
   "metadata": {},
   "outputs": [
    {
     "data": {
      "text/html": [
       "<div>\n",
       "<style scoped>\n",
       "    .dataframe tbody tr th:only-of-type {\n",
       "        vertical-align: middle;\n",
       "    }\n",
       "\n",
       "    .dataframe tbody tr th {\n",
       "        vertical-align: top;\n",
       "    }\n",
       "\n",
       "    .dataframe thead th {\n",
       "        text-align: right;\n",
       "    }\n",
       "</style>\n",
       "<table border=\"1\" class=\"dataframe\">\n",
       "  <thead>\n",
       "    <tr style=\"text-align: right;\">\n",
       "      <th>Order</th>\n",
       "      <th>1.0</th>\n",
       "      <th>2.0</th>\n",
       "      <th>4.0</th>\n",
       "      <th>3.0</th>\n",
       "      <th>5.0</th>\n",
       "      <th>6.0</th>\n",
       "      <th>8.0</th>\n",
       "      <th>9.0</th>\n",
       "      <th>7.0</th>\n",
       "      <th>11.0</th>\n",
       "      <th>...</th>\n",
       "      <th>46.0</th>\n",
       "      <th>31.0</th>\n",
       "      <th>33.0</th>\n",
       "      <th>44.0</th>\n",
       "      <th>35.0</th>\n",
       "      <th>39.0</th>\n",
       "      <th>38.0</th>\n",
       "      <th>45.0</th>\n",
       "      <th>34.0</th>\n",
       "      <th>42.0</th>\n",
       "    </tr>\n",
       "  </thead>\n",
       "  <tbody>\n",
       "    <tr>\n",
       "      <th>GLUA0007_</th>\n",
       "      <td>0.0</td>\n",
       "      <td>0.0</td>\n",
       "      <td>0.0</td>\n",
       "      <td>0.0</td>\n",
       "      <td>0.0</td>\n",
       "      <td>0.0</td>\n",
       "      <td>0.0</td>\n",
       "      <td>0.0</td>\n",
       "      <td>0.0</td>\n",
       "      <td>-1.0</td>\n",
       "      <td>...</td>\n",
       "      <td>0.0</td>\n",
       "      <td>0.0</td>\n",
       "      <td>-1.0</td>\n",
       "      <td>0.0</td>\n",
       "      <td>0.0</td>\n",
       "      <td>-1.0</td>\n",
       "      <td>-1.0</td>\n",
       "      <td>-1.0</td>\n",
       "      <td>0.0</td>\n",
       "      <td>-1.0</td>\n",
       "    </tr>\n",
       "    <tr>\n",
       "      <th>HISA0015_</th>\n",
       "      <td>1.0</td>\n",
       "      <td>1.0</td>\n",
       "      <td>1.0</td>\n",
       "      <td>1.0</td>\n",
       "      <td>1.0</td>\n",
       "      <td>1.0</td>\n",
       "      <td>1.0</td>\n",
       "      <td>1.0</td>\n",
       "      <td>1.0</td>\n",
       "      <td>1.0</td>\n",
       "      <td>...</td>\n",
       "      <td>1.0</td>\n",
       "      <td>1.0</td>\n",
       "      <td>1.0</td>\n",
       "      <td>1.0</td>\n",
       "      <td>1.0</td>\n",
       "      <td>1.0</td>\n",
       "      <td>1.0</td>\n",
       "      <td>1.0</td>\n",
       "      <td>1.0</td>\n",
       "      <td>1.0</td>\n",
       "    </tr>\n",
       "    <tr>\n",
       "      <th>ASPA0018_</th>\n",
       "      <td>0.0</td>\n",
       "      <td>0.0</td>\n",
       "      <td>0.0</td>\n",
       "      <td>-1.0</td>\n",
       "      <td>0.0</td>\n",
       "      <td>0.0</td>\n",
       "      <td>-1.0</td>\n",
       "      <td>0.0</td>\n",
       "      <td>0.0</td>\n",
       "      <td>0.0</td>\n",
       "      <td>...</td>\n",
       "      <td>-1.0</td>\n",
       "      <td>0.0</td>\n",
       "      <td>0.0</td>\n",
       "      <td>0.0</td>\n",
       "      <td>0.0</td>\n",
       "      <td>-1.0</td>\n",
       "      <td>0.0</td>\n",
       "      <td>0.0</td>\n",
       "      <td>0.0</td>\n",
       "      <td>0.0</td>\n",
       "    </tr>\n",
       "    <tr>\n",
       "      <th>TYRA0020_</th>\n",
       "      <td>0.0</td>\n",
       "      <td>0.0</td>\n",
       "      <td>0.0</td>\n",
       "      <td>0.0</td>\n",
       "      <td>0.0</td>\n",
       "      <td>0.0</td>\n",
       "      <td>0.0</td>\n",
       "      <td>0.0</td>\n",
       "      <td>0.0</td>\n",
       "      <td>0.0</td>\n",
       "      <td>...</td>\n",
       "      <td>0.0</td>\n",
       "      <td>0.0</td>\n",
       "      <td>0.0</td>\n",
       "      <td>0.0</td>\n",
       "      <td>0.0</td>\n",
       "      <td>0.0</td>\n",
       "      <td>0.0</td>\n",
       "      <td>0.0</td>\n",
       "      <td>0.0</td>\n",
       "      <td>0.0</td>\n",
       "    </tr>\n",
       "    <tr>\n",
       "      <th>TYRA0023_</th>\n",
       "      <td>0.0</td>\n",
       "      <td>0.0</td>\n",
       "      <td>0.0</td>\n",
       "      <td>0.0</td>\n",
       "      <td>0.0</td>\n",
       "      <td>0.0</td>\n",
       "      <td>0.0</td>\n",
       "      <td>0.0</td>\n",
       "      <td>0.0</td>\n",
       "      <td>0.0</td>\n",
       "      <td>...</td>\n",
       "      <td>0.0</td>\n",
       "      <td>0.0</td>\n",
       "      <td>0.0</td>\n",
       "      <td>0.0</td>\n",
       "      <td>0.0</td>\n",
       "      <td>0.0</td>\n",
       "      <td>0.0</td>\n",
       "      <td>0.0</td>\n",
       "      <td>0.0</td>\n",
       "      <td>0.0</td>\n",
       "    </tr>\n",
       "  </tbody>\n",
       "</table>\n",
       "<p>5 rows × 46 columns</p>\n",
       "</div>"
      ],
      "text/plain": [
       "Order      1.0   2.0   4.0   3.0   5.0   6.0   8.0   9.0   7.0   11.0  ...  \\\n",
       "GLUA0007_   0.0   0.0   0.0   0.0   0.0   0.0   0.0   0.0   0.0  -1.0  ...   \n",
       "HISA0015_   1.0   1.0   1.0   1.0   1.0   1.0   1.0   1.0   1.0   1.0  ...   \n",
       "ASPA0018_   0.0   0.0   0.0  -1.0   0.0   0.0  -1.0   0.0   0.0   0.0  ...   \n",
       "TYRA0020_   0.0   0.0   0.0   0.0   0.0   0.0   0.0   0.0   0.0   0.0  ...   \n",
       "TYRA0023_   0.0   0.0   0.0   0.0   0.0   0.0   0.0   0.0   0.0   0.0  ...   \n",
       "\n",
       "Order      46.0  31.0  33.0  44.0  35.0  39.0  38.0  45.0  34.0  42.0  \n",
       "GLUA0007_   0.0   0.0  -1.0   0.0   0.0  -1.0  -1.0  -1.0   0.0  -1.0  \n",
       "HISA0015_   1.0   1.0   1.0   1.0   1.0   1.0   1.0   1.0   1.0   1.0  \n",
       "ASPA0018_  -1.0   0.0   0.0   0.0   0.0  -1.0   0.0   0.0   0.0   0.0  \n",
       "TYRA0020_   0.0   0.0   0.0   0.0   0.0   0.0   0.0   0.0   0.0   0.0  \n",
       "TYRA0023_   0.0   0.0   0.0   0.0   0.0   0.0   0.0   0.0   0.0   0.0  \n",
       "\n",
       "[5 rows x 46 columns]"
      ]
     },
     "execution_count": 50,
     "metadata": {},
     "output_type": "execute_result"
    }
   ],
   "source": [
    "all_crg_count.head()"
   ]
  },
  {
   "cell_type": "code",
   "execution_count": null,
   "id": "0095c60a-2687-40a5-a715-2e756a131347",
   "metadata": {},
   "outputs": [],
   "source": []
  }
 ],
 "metadata": {
  "kernelspec": {
   "display_name": "Python 3 (ipykernel)",
   "language": "python",
   "name": "python3"
  },
  "language_info": {
   "codemirror_mode": {
    "name": "ipython",
    "version": 3
   },
   "file_extension": ".py",
   "mimetype": "text/x-python",
   "name": "python",
   "nbconvert_exporter": "python",
   "pygments_lexer": "ipython3",
   "version": "3.11.5"
  }
 },
 "nbformat": 4,
 "nbformat_minor": 5
}
